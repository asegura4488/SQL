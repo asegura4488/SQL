{
 "cells": [
  {
   "cell_type": "code",
   "execution_count": 4,
   "metadata": {},
   "outputs": [],
   "source": [
    "import sqlite3"
   ]
  },
  {
   "cell_type": "code",
   "execution_count": 6,
   "metadata": {},
   "outputs": [],
   "source": [
    "con = sqlite3.connect('products.db')"
   ]
  },
  {
   "cell_type": "code",
   "execution_count": 16,
   "metadata": {},
   "outputs": [],
   "source": [
    "def sql_fetch(con):\n",
    "    \n",
    "    cursorObj = con.cursor()\n",
    "    cursorObj.execute('select * FROM Products WHERE Code > 2.0')\n",
    "    rows = cursorObj.fetchall()\n",
    "    \n",
    "    return rows"
   ]
  },
  {
   "cell_type": "code",
   "execution_count": 19,
   "metadata": {},
   "outputs": [],
   "source": [
    "rows = sql_fetch(con)"
   ]
  },
  {
   "cell_type": "code",
   "execution_count": 20,
   "metadata": {},
   "outputs": [
    {
     "name": "stdout",
     "output_type": "stream",
     "text": [
      "(u'Hogar', u'Computador', 1.2, u'2019-03-02', 3.0)\n",
      "(u'Hogar', u'Computador', 4.45, u'2019-04-07', 4.0)\n",
      "(u'Aseo', u'Escoba', 1.25, u'2020-02-31', 5.0)\n",
      "(u'Hogar', u'Cama', 0.5, u'2019-10-10', 6.0)\n",
      "(u'Hogar', u'Cama', 0.5, u'2019-10-10', 6.0)\n",
      "(u'Hogar', u'Cama', 0.5, u'2019-10-10', 6.0)\n",
      "(u'Hogar', u'Cama', 0.3, u'2019-11-10', 5.0)\n"
     ]
    }
   ],
   "source": [
    "for row in rows:\n",
    "    print(row)"
   ]
  },
  {
   "cell_type": "code",
   "execution_count": null,
   "metadata": {},
   "outputs": [],
   "source": []
  }
 ],
 "metadata": {
  "kernelspec": {
   "display_name": "Python 3",
   "language": "python",
   "name": "python3"
  },
  "language_info": {
   "codemirror_mode": {
    "name": "ipython",
    "version": 2
   },
   "file_extension": ".py",
   "mimetype": "text/x-python",
   "name": "python",
   "nbconvert_exporter": "python",
   "pygments_lexer": "ipython2",
   "version": "2.7.16"
  }
 },
 "nbformat": 4,
 "nbformat_minor": 2
}
